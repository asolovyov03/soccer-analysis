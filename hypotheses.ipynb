{
 "cells": [
  {
   "cell_type": "code",
   "execution_count": 1,
   "metadata": {},
   "outputs": [],
   "source": [
    "import json\n",
    "import pandas as pd\n",
    "import scipy.stats as sts"
   ]
  },
  {
   "cell_type": "code",
   "execution_count": 2,
   "metadata": {},
   "outputs": [],
   "source": [
    "with open('match_stats.json', 'r') as f:\n",
    "    df = pd.DataFrame.from_dict(pd.json_normalize(json.loads(f.read())))"
   ]
  },
  {
   "attachments": {},
   "cell_type": "markdown",
   "metadata": {},
   "source": [
    "В футболе принято считать, что играть дома проще, в блоке визуализации мы наблюдали некоторые такие закономерности, давайте теперь протестируем некоторые гипотезы, связанные с этим\n",
    "\n",
    "Для начала проверим, чаще ли забивают голы дома"
   ]
  },
  {
   "cell_type": "code",
   "execution_count": 3,
   "metadata": {},
   "outputs": [
    {
     "data": {
      "text/plain": [
       "1.5184936112979153"
      ]
     },
     "execution_count": 3,
     "metadata": {},
     "output_type": "execute_result"
    }
   ],
   "source": [
    "df['home.score'].mean()"
   ]
  },
  {
   "cell_type": "code",
   "execution_count": 4,
   "metadata": {},
   "outputs": [
    {
     "data": {
      "text/plain": [
       "1.234028244788164"
      ]
     },
     "execution_count": 4,
     "metadata": {},
     "output_type": "execute_result"
    }
   ],
   "source": [
    "df['guest.score'].mean()"
   ]
  },
  {
   "attachments": {},
   "cell_type": "markdown",
   "metadata": {},
   "source": [
    "Проверим следующую гипотезу:\n",
    "\n",
    "$$\n",
    "\\begin{aligned}\n",
    "&H_0: \\hspace{2mm} Score_h = Score_g \\\\\n",
    "&H_1: \\hspace{2mm} Score_h > Score_g \n",
    "\\end{aligned}\n",
    "$$\n",
    "\n",
    "Для этого воспользуемся двухвыборочным t-тестом для независимых выборок"
   ]
  },
  {
   "cell_type": "code",
   "execution_count": 5,
   "metadata": {},
   "outputs": [
    {
     "data": {
      "text/plain": [
       "Ttest_indResult(statistic=8.693154606655288, pvalue=2.250488094821158e-18)"
      ]
     },
     "execution_count": 5,
     "metadata": {},
     "output_type": "execute_result"
    }
   ],
   "source": [
    "sts.ttest_ind(df['home.score'], df['guest.score'], alternative = 'greater')"
   ]
  },
  {
   "attachments": {},
   "cell_type": "markdown",
   "metadata": {},
   "source": [
    "Нулевая гипотеза отвергается на уровне значимости 1%"
   ]
  },
  {
   "attachments": {},
   "cell_type": "markdown",
   "metadata": {},
   "source": [
    "Из блока визуализации мы также помним про то, что команды в гостях чаще выбивают мяч. Проверим, были ли найденные зависимости статистически значимыми"
   ]
  },
  {
   "attachments": {},
   "cell_type": "markdown",
   "metadata": {},
   "source": [
    "Проверим следующую гипотезу:\n",
    "\n",
    "$$\n",
    "\\begin{aligned}\n",
    "&H_0: \\hspace{2mm} Clearances_h = Clearances_g \\\\\n",
    "&H_1: \\hspace{2mm} Clearances_h < Clearances_g \n",
    "\\end{aligned}\n",
    "$$\n",
    "\n",
    "Для этого аналогично воспользуемся двухвыборочным t-тестом для независимых выборок"
   ]
  },
  {
   "cell_type": "code",
   "execution_count": 8,
   "metadata": {},
   "outputs": [
    {
     "data": {
      "text/plain": [
       "Ttest_indResult(statistic=-12.708230049159955, pvalue=1.1415945369177538e-36)"
      ]
     },
     "execution_count": 8,
     "metadata": {},
     "output_type": "execute_result"
    }
   ],
   "source": [
    "sts.ttest_ind(df[~df['home.clearances'].isna()]['home.clearances'], df[~df['guest.clearances'].isna()]['guest.clearances'], alternative = 'less')"
   ]
  },
  {
   "attachments": {},
   "cell_type": "markdown",
   "metadata": {},
   "source": [
    "Нулевая гипотеза отвергается на уровне значимости 1%"
   ]
  }
 ],
 "metadata": {
  "kernelspec": {
   "display_name": "Python 3",
   "language": "python",
   "name": "python3"
  },
  "language_info": {
   "codemirror_mode": {
    "name": "ipython",
    "version": 3
   },
   "file_extension": ".py",
   "mimetype": "text/x-python",
   "name": "python",
   "nbconvert_exporter": "python",
   "pygments_lexer": "ipython3",
   "version": "3.8.5"
  },
  "orig_nbformat": 4
 },
 "nbformat": 4,
 "nbformat_minor": 2
}
