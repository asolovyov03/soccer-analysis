{
 "cells": [
  {
   "cell_type": "code",
   "execution_count": 2,
   "metadata": {},
   "outputs": [],
   "source": [
    "import json\n",
    "import pandas as pd\n",
    "\n",
    "pd.options.mode.chained_assignment = None"
   ]
  },
  {
   "cell_type": "code",
   "execution_count": 3,
   "metadata": {},
   "outputs": [],
   "source": [
    "with open('match_stats.json', 'r') as f:\n",
    "    df = pd.DataFrame.from_dict(pd.json_normalize(json.loads(f.read())))"
   ]
  },
  {
   "attachments": {},
   "cell_type": "markdown",
   "metadata": {},
   "source": [
    "Добавим признак, который будет показывать историю личных встреч из нашего датасета. Для этого введем признак head-to-head, который будет считать сумму результатов матчей (за период до прошедшего матча) между командами по следующему принципу: +1 за победу, 0 за ничью и -1 за проигрыш."
   ]
  },
  {
   "cell_type": "code",
   "execution_count": 4,
   "metadata": {},
   "outputs": [],
   "source": [
    "teams = df['home.team'].unique()"
   ]
  },
  {
   "cell_type": "code",
   "execution_count": 5,
   "metadata": {},
   "outputs": [],
   "source": [
    "def head_to_head(team1: str, team2: str, df: pd.DataFrame) -> float:\n",
    "    home_matches = df[(df['home.team'] == team1) & (df['guest.team'] == team2)]\n",
    "    score = 0\n",
    "    score += (home_matches['home.score'] > home_matches['guest.score']).sum()\n",
    "    score -= (home_matches['home.score'] < home_matches['guest.score']).sum()\n",
    "    guest_matches = df[(df['home.team'] == team2) & (df['guest.team'] == team1)]\n",
    "    score -= (guest_matches['home.score'] > guest_matches['guest.score']).sum()\n",
    "    score += (guest_matches['home.score'] < guest_matches['guest.score']).sum()\n",
    "    return score"
   ]
  },
  {
   "cell_type": "code",
   "execution_count": 6,
   "metadata": {},
   "outputs": [],
   "source": [
    "df['head_to_head'] = df.apply(lambda row: head_to_head(row['home.team'], row['guest.team'], df[df['match_date'] < row['match_date']]), axis=1)"
   ]
  },
  {
   "cell_type": "code",
   "execution_count": 7,
   "metadata": {},
   "outputs": [
    {
     "data": {
      "text/html": [
       "<div>\n",
       "<style scoped>\n",
       "    .dataframe tbody tr th:only-of-type {\n",
       "        vertical-align: middle;\n",
       "    }\n",
       "\n",
       "    .dataframe tbody tr th {\n",
       "        vertical-align: top;\n",
       "    }\n",
       "\n",
       "    .dataframe thead th {\n",
       "        text-align: right;\n",
       "    }\n",
       "</style>\n",
       "<table border=\"1\" class=\"dataframe\">\n",
       "  <thead>\n",
       "    <tr style=\"text-align: right;\">\n",
       "      <th></th>\n",
       "      <th>match_date</th>\n",
       "      <th>match_week</th>\n",
       "      <th>home.team</th>\n",
       "      <th>home.score</th>\n",
       "      <th>home.xG</th>\n",
       "      <th>home.possession</th>\n",
       "      <th>home.passing_accuracy</th>\n",
       "      <th>home.shots_on_target</th>\n",
       "      <th>home.yellow_cards_count</th>\n",
       "      <th>home.red_cards_count</th>\n",
       "      <th>...</th>\n",
       "      <th>guest.touches</th>\n",
       "      <th>guest.tackles</th>\n",
       "      <th>guest.interceptions</th>\n",
       "      <th>guest.aerials_won</th>\n",
       "      <th>guest.clearances</th>\n",
       "      <th>guest.offsides</th>\n",
       "      <th>guest.goal_kicks</th>\n",
       "      <th>guest.throw_ins</th>\n",
       "      <th>guest.long_balls</th>\n",
       "      <th>head_to_head</th>\n",
       "    </tr>\n",
       "  </thead>\n",
       "  <tbody>\n",
       "    <tr>\n",
       "      <th>0</th>\n",
       "      <td>2022-08-05</td>\n",
       "      <td>1</td>\n",
       "      <td>Crystal Palace</td>\n",
       "      <td>0</td>\n",
       "      <td>1.2</td>\n",
       "      <td>0.56</td>\n",
       "      <td>0.84</td>\n",
       "      <td>0.20</td>\n",
       "      <td>1</td>\n",
       "      <td>0</td>\n",
       "      <td>...</td>\n",
       "      <td>599.0</td>\n",
       "      <td>29.0</td>\n",
       "      <td>9</td>\n",
       "      <td>14.0</td>\n",
       "      <td>24.0</td>\n",
       "      <td>2.0</td>\n",
       "      <td>2.0</td>\n",
       "      <td>14.0</td>\n",
       "      <td>59.0</td>\n",
       "      <td>-2</td>\n",
       "    </tr>\n",
       "    <tr>\n",
       "      <th>1</th>\n",
       "      <td>2022-08-06</td>\n",
       "      <td>1</td>\n",
       "      <td>Fulham</td>\n",
       "      <td>2</td>\n",
       "      <td>1.2</td>\n",
       "      <td>0.33</td>\n",
       "      <td>0.60</td>\n",
       "      <td>0.25</td>\n",
       "      <td>2</td>\n",
       "      <td>0</td>\n",
       "      <td>...</td>\n",
       "      <td>784.0</td>\n",
       "      <td>11.0</td>\n",
       "      <td>10</td>\n",
       "      <td>13.0</td>\n",
       "      <td>16.0</td>\n",
       "      <td>4.0</td>\n",
       "      <td>5.0</td>\n",
       "      <td>35.0</td>\n",
       "      <td>94.0</td>\n",
       "      <td>-1</td>\n",
       "    </tr>\n",
       "    <tr>\n",
       "      <th>2</th>\n",
       "      <td>2022-08-06</td>\n",
       "      <td>1</td>\n",
       "      <td>Tottenham Hotspur</td>\n",
       "      <td>4</td>\n",
       "      <td>1.5</td>\n",
       "      <td>0.58</td>\n",
       "      <td>0.83</td>\n",
       "      <td>0.44</td>\n",
       "      <td>3</td>\n",
       "      <td>0</td>\n",
       "      <td>...</td>\n",
       "      <td>554.0</td>\n",
       "      <td>14.0</td>\n",
       "      <td>13</td>\n",
       "      <td>11.0</td>\n",
       "      <td>21.0</td>\n",
       "      <td>0.0</td>\n",
       "      <td>4.0</td>\n",
       "      <td>14.0</td>\n",
       "      <td>61.0</td>\n",
       "      <td>4</td>\n",
       "    </tr>\n",
       "    <tr>\n",
       "      <th>3</th>\n",
       "      <td>2022-08-06</td>\n",
       "      <td>1</td>\n",
       "      <td>Newcastle United</td>\n",
       "      <td>2</td>\n",
       "      <td>1.7</td>\n",
       "      <td>0.61</td>\n",
       "      <td>0.79</td>\n",
       "      <td>0.39</td>\n",
       "      <td>0</td>\n",
       "      <td>0</td>\n",
       "      <td>...</td>\n",
       "      <td>475.0</td>\n",
       "      <td>15.0</td>\n",
       "      <td>10</td>\n",
       "      <td>16.0</td>\n",
       "      <td>37.0</td>\n",
       "      <td>0.0</td>\n",
       "      <td>12.0</td>\n",
       "      <td>26.0</td>\n",
       "      <td>70.0</td>\n",
       "      <td>0</td>\n",
       "    </tr>\n",
       "    <tr>\n",
       "      <th>4</th>\n",
       "      <td>2022-08-06</td>\n",
       "      <td>1</td>\n",
       "      <td>Leeds United</td>\n",
       "      <td>2</td>\n",
       "      <td>0.8</td>\n",
       "      <td>0.40</td>\n",
       "      <td>0.74</td>\n",
       "      <td>0.33</td>\n",
       "      <td>2</td>\n",
       "      <td>0</td>\n",
       "      <td>...</td>\n",
       "      <td>720.0</td>\n",
       "      <td>16.0</td>\n",
       "      <td>14</td>\n",
       "      <td>7.0</td>\n",
       "      <td>17.0</td>\n",
       "      <td>1.0</td>\n",
       "      <td>9.0</td>\n",
       "      <td>23.0</td>\n",
       "      <td>72.0</td>\n",
       "      <td>-1</td>\n",
       "    </tr>\n",
       "  </tbody>\n",
       "</table>\n",
       "<p>5 rows × 43 columns</p>\n",
       "</div>"
      ],
      "text/plain": [
       "   match_date  match_week          home.team  home.score  home.xG  \\\n",
       "0  2022-08-05           1     Crystal Palace           0      1.2   \n",
       "1  2022-08-06           1             Fulham           2      1.2   \n",
       "2  2022-08-06           1  Tottenham Hotspur           4      1.5   \n",
       "3  2022-08-06           1   Newcastle United           2      1.7   \n",
       "4  2022-08-06           1       Leeds United           2      0.8   \n",
       "\n",
       "   home.possession  home.passing_accuracy  home.shots_on_target  \\\n",
       "0             0.56                   0.84                  0.20   \n",
       "1             0.33                   0.60                  0.25   \n",
       "2             0.58                   0.83                  0.44   \n",
       "3             0.61                   0.79                  0.39   \n",
       "4             0.40                   0.74                  0.33   \n",
       "\n",
       "   home.yellow_cards_count  home.red_cards_count  ...  guest.touches  \\\n",
       "0                        1                     0  ...          599.0   \n",
       "1                        2                     0  ...          784.0   \n",
       "2                        3                     0  ...          554.0   \n",
       "3                        0                     0  ...          475.0   \n",
       "4                        2                     0  ...          720.0   \n",
       "\n",
       "   guest.tackles  guest.interceptions  guest.aerials_won  guest.clearances  \\\n",
       "0           29.0                    9               14.0              24.0   \n",
       "1           11.0                   10               13.0              16.0   \n",
       "2           14.0                   13               11.0              21.0   \n",
       "3           15.0                   10               16.0              37.0   \n",
       "4           16.0                   14                7.0              17.0   \n",
       "\n",
       "   guest.offsides  guest.goal_kicks  guest.throw_ins  guest.long_balls  \\\n",
       "0             2.0               2.0             14.0              59.0   \n",
       "1             4.0               5.0             35.0              94.0   \n",
       "2             0.0               4.0             14.0              61.0   \n",
       "3             0.0              12.0             26.0              70.0   \n",
       "4             1.0               9.0             23.0              72.0   \n",
       "\n",
       "   head_to_head  \n",
       "0            -2  \n",
       "1            -1  \n",
       "2             4  \n",
       "3             0  \n",
       "4            -1  \n",
       "\n",
       "[5 rows x 43 columns]"
      ]
     },
     "execution_count": 7,
     "metadata": {},
     "output_type": "execute_result"
    }
   ],
   "source": [
    "df.head()"
   ]
  },
  {
   "attachments": {},
   "cell_type": "markdown",
   "metadata": {},
   "source": [
    "### ML"
   ]
  },
  {
   "attachments": {},
   "cell_type": "markdown",
   "metadata": {},
   "source": [
    "Скопируем предыдущий датафрейм, чтобы можно было поменять некоторые столбцы"
   ]
  },
  {
   "cell_type": "code",
   "execution_count": 8,
   "metadata": {},
   "outputs": [],
   "source": [
    "new_df = df.copy()"
   ]
  },
  {
   "attachments": {},
   "cell_type": "markdown",
   "metadata": {},
   "source": [
    "Напишем функцию, которая напишет результат матча (2 — победа домашней команды, 1 — ничья, 0 — победа гостей)"
   ]
  },
  {
   "cell_type": "code",
   "execution_count": 9,
   "metadata": {},
   "outputs": [],
   "source": [
    "def get_result(h_score: int, g_score: int) -> int:\n",
    "    if h_score > g_score:\n",
    "        return 2\n",
    "    elif h_score == g_score:\n",
    "        return 1\n",
    "    else:\n",
    "        return 0"
   ]
  },
  {
   "cell_type": "code",
   "execution_count": 10,
   "metadata": {},
   "outputs": [],
   "source": [
    "new_df['result'] = new_df.apply(lambda row: get_result(row['home.score'], row['guest.score']), axis = 1)"
   ]
  },
  {
   "cell_type": "code",
   "execution_count": 11,
   "metadata": {},
   "outputs": [],
   "source": [
    "new_df['match_date'] = pd.to_datetime(new_df['match_date'])"
   ]
  },
  {
   "cell_type": "code",
   "execution_count": 12,
   "metadata": {},
   "outputs": [],
   "source": [
    "def get_aggregate(team: str, n: int, df:pd.DataFrame) -> pd.DataFrame:\n",
    "    '''\n",
    "        Функция, собирающая средние показатели команды за последние n матчей в передаваемом датафрейме\n",
    "\n",
    "        Args:\n",
    "            team: Название команды\n",
    "            n: Количество матчей\n",
    "            df: Датафрейм с матчами\n",
    "\n",
    "        Returns:\n",
    "            df: Датафрейм (1 строчки) с агрегированными данными для команды\n",
    "    '''\n",
    "    df.sort_values(by = 'match_date', inplace=True, ascending=False)\n",
    "    last_matches = df[(df['home.team'] == team) | (df['guest.team'] == team)][:n]\n",
    "    result = pd.DataFrame(columns=['score', 'xG', 'possession',\n",
    "       'passing_accuracy', 'shots_on_target',\n",
    "       'yellow_cards_count', 'red_cards_count', 'fouls',\n",
    "       'corners', 'crosses', 'touches', 'tackles',\n",
    "       'interceptions', 'aerials_won', 'clearances',\n",
    "       'offsides', 'goal_kicks', 'throw_ins',\n",
    "       'long_balls'])\n",
    "\n",
    "    # Данные списки и словари нужны для правильного переноса значений из колонок с разными названиями\n",
    "    home_features = ['home.score', 'home.xG',\n",
    "       'home.possession', 'home.passing_accuracy', 'home.shots_on_target',\n",
    "       'home.yellow_cards_count', 'home.red_cards_count', 'home.fouls',\n",
    "       'home.corners', 'home.crosses', 'home.touches', 'home.tackles',\n",
    "       'home.interceptions', 'home.aerials_won', 'home.clearances',\n",
    "       'home.offsides', 'home.goal_kicks', 'home.throw_ins', 'home.long_balls']\n",
    "    guest_features = ['guest.score', 'guest.xG', 'guest.possession',\n",
    "        'guest.passing_accuracy', 'guest.shots_on_target',\n",
    "        'guest.yellow_cards_count', 'guest.red_cards_count', 'guest.fouls',\n",
    "        'guest.corners', 'guest.crosses', 'guest.touches', 'guest.tackles',\n",
    "        'guest.interceptions', 'guest.aerials_won', 'guest.clearances',\n",
    "        'guest.offsides', 'guest.goal_kicks', 'guest.throw_ins',\n",
    "        'guest.long_balls']\n",
    "    home_mapper = {\n",
    "        'home.score': 'score',\n",
    "        'home.xG': 'xG',\n",
    "        'home.possession': 'possession',\n",
    "        'home.passing_accuracy':'passing_accuracy', \n",
    "        'home.shots_on_target': 'shots_on_target',\n",
    "        'home.yellow_cards_count': 'yellow_cards_count', \n",
    "        'home.red_cards_count': 'red_cards_count', \n",
    "        'home.fouls': 'fouls',\n",
    "        'home.corners': 'corners', \n",
    "        'home.crosses': 'crosses', \n",
    "        'home.touches': 'touches', \n",
    "        'home.tackles': 'tackles',\n",
    "        'home.interceptions': 'interceptions',\n",
    "        'home.aerials_won': 'aerials_won', \n",
    "        'home.clearances': 'clearances',\n",
    "        'home.offsides': 'offsides', \n",
    "        'home.goal_kicks':'goal_kicks', \n",
    "        'home.throw_ins':'throw_ins',\n",
    "        'home.long_balls':'long_balls'\n",
    "    }\n",
    "    guest_mapper = {\n",
    "        'guest.score': 'score',\n",
    "        'guest.xG': 'xG',\n",
    "        'guest.possession': 'possession',\n",
    "        'guest.passing_accuracy':'passing_accuracy', \n",
    "        'guest.shots_on_target': 'shots_on_target',\n",
    "        'guest.yellow_cards_count': 'yellow_cards_count', \n",
    "        'guest.red_cards_count': 'red_cards_count', \n",
    "        'guest.fouls': 'fouls',\n",
    "        'guest.corners': 'corners', \n",
    "        'guest.crosses': 'crosses', \n",
    "        'guest.touches': 'touches', \n",
    "        'guest.tackles': 'tackles',\n",
    "        'guest.interceptions': 'interceptions',\n",
    "        'guest.aerials_won': 'aerials_won', \n",
    "        'guest.clearances': 'clearances',\n",
    "        'guest.offsides': 'offsides', \n",
    "        'guest.goal_kicks':'goal_kicks', \n",
    "        'guest.throw_ins':'throw_ins',\n",
    "        'guest.long_balls':'long_balls'\n",
    "    }\n",
    "    for index, row in last_matches.iterrows():\n",
    "       if team == row['home.team']:\n",
    "            game = row[home_features].to_frame().transpose()\n",
    "            game.rename(columns = home_mapper, inplace=True)\n",
    "            result = pd.concat([result, game], axis=0)\n",
    "       else:\n",
    "            game = row[guest_features].to_frame().transpose()\n",
    "            game.rename(columns = guest_mapper, inplace=True)\n",
    "            result = pd.concat([result, game], axis = 0)\n",
    "    return result.mean().to_frame().transpose()"
   ]
  },
  {
   "cell_type": "code",
   "execution_count": 13,
   "metadata": {},
   "outputs": [],
   "source": [
    "def get_data(df: pd.DataFrame, n: int) -> pd.DataFrame:\n",
    "   '''\n",
    "      Функция, которая создает данные для машинного обучения: для каждого матча считает разницу в агрегированных признаках между домашней и гостевой командой\n",
    "\n",
    "      Args:\n",
    "         df: Датафрейм, по которому создаются данные\n",
    "         n: Количество прошлых матчей, которое берется для агрегации \n",
    "      \n",
    "      Returns: \n",
    "         data: Датафрейм с признаками по матчам\n",
    "   '''\n",
    "   df.sort_values(by = 'match_date', ascending=False, inplace=True)\n",
    "   data = pd.DataFrame(columns=['score', 'xG', 'possession',\n",
    "      'passing_accuracy', 'shots_on_target',\n",
    "      'yellow_cards_count', 'red_cards_count', 'fouls',\n",
    "      'corners', 'crosses', 'touches', 'tackles',\n",
    "      'interceptions', 'aerials_won', 'clearances',\n",
    "      'offsides', 'goal_kicks', 'throw_ins',\n",
    "      'long_balls', 'head_to_head', 'result'])\n",
    "   for index, row in df[:-n].iterrows():\n",
    "      row = row.to_frame().transpose()\n",
    "      home = get_aggregate(row['home.team'].values[0], n, df).reset_index(drop=True)\n",
    "      guest = get_aggregate(row['guest.team'].values[0], n, df).reset_index(drop=True)\n",
    "      data = pd.concat([data, pd.concat([home - guest, row[['head_to_head', 'result']].reset_index(drop=True)], axis=1)], axis = 0)\n",
    "   return data.reset_index()"
   ]
  },
  {
   "attachments": {},
   "cell_type": "markdown",
   "metadata": {},
   "source": [
    "Соберем данные с 5 матчами в качестве гиперпараметра. В рамках анализа ещё пробовалось 2, 10 и 15 матчей, но качество модели лучше всего было при 5 матчах, поэтому возьмем его.\n",
    "\n",
    "P.S. следующий блок работает не очень быстро, около 1.5 минут"
   ]
  },
  {
   "cell_type": "code",
   "execution_count": 16,
   "metadata": {},
   "outputs": [],
   "source": [
    "data = get_data(new_df[new_df['match_date'] > '2017-05-21'], 5)"
   ]
  },
  {
   "attachments": {},
   "cell_type": "markdown",
   "metadata": {},
   "source": [
    "Разобьем выборку на тренировочкую и тестовую, размер тестовой возьмем 0.3 от выборки"
   ]
  },
  {
   "cell_type": "code",
   "execution_count": 17,
   "metadata": {},
   "outputs": [],
   "source": [
    "from sklearn.model_selection import train_test_split"
   ]
  },
  {
   "cell_type": "code",
   "execution_count": 18,
   "metadata": {},
   "outputs": [],
   "source": [
    "X = data.drop('result', axis=1)\n",
    "y = data['result'].astype(int)"
   ]
  },
  {
   "cell_type": "code",
   "execution_count": 19,
   "metadata": {},
   "outputs": [],
   "source": [
    "X_train, X_test, y_train, y_test = train_test_split(X, y, test_size=0.3, random_state=15)"
   ]
  },
  {
   "attachments": {},
   "cell_type": "markdown",
   "metadata": {},
   "source": [
    "Отмасштабируем признаки с помощью StandardScaler"
   ]
  },
  {
   "cell_type": "code",
   "execution_count": 20,
   "metadata": {},
   "outputs": [],
   "source": [
    "from sklearn.preprocessing import StandardScaler"
   ]
  },
  {
   "cell_type": "code",
   "execution_count": 21,
   "metadata": {},
   "outputs": [],
   "source": [
    "scaler = StandardScaler()\n",
    "columns = X_train.columns\n",
    "X_train = pd.DataFrame(data = scaler.fit_transform(X_train), columns=columns)\n",
    "X_test = pd.DataFrame(data = scaler.transform(X_test), columns=columns)"
   ]
  },
  {
   "attachments": {},
   "cell_type": "markdown",
   "metadata": {},
   "source": [
    "В качестве модели возьмем логистическую регресиию для многоклассовой классификации. В данном блоке мы пробовали (код мы правда не добавили) и другие модели: Random Forest и GradientBoosting из sklearn, но логистическая регрессия показала лучшее результаты из всех  "
   ]
  },
  {
   "cell_type": "code",
   "execution_count": 22,
   "metadata": {},
   "outputs": [
    {
     "data": {
      "text/html": [
       "<style>#sk-container-id-1 {color: black;background-color: white;}#sk-container-id-1 pre{padding: 0;}#sk-container-id-1 div.sk-toggleable {background-color: white;}#sk-container-id-1 label.sk-toggleable__label {cursor: pointer;display: block;width: 100%;margin-bottom: 0;padding: 0.3em;box-sizing: border-box;text-align: center;}#sk-container-id-1 label.sk-toggleable__label-arrow:before {content: \"▸\";float: left;margin-right: 0.25em;color: #696969;}#sk-container-id-1 label.sk-toggleable__label-arrow:hover:before {color: black;}#sk-container-id-1 div.sk-estimator:hover label.sk-toggleable__label-arrow:before {color: black;}#sk-container-id-1 div.sk-toggleable__content {max-height: 0;max-width: 0;overflow: hidden;text-align: left;background-color: #f0f8ff;}#sk-container-id-1 div.sk-toggleable__content pre {margin: 0.2em;color: black;border-radius: 0.25em;background-color: #f0f8ff;}#sk-container-id-1 input.sk-toggleable__control:checked~div.sk-toggleable__content {max-height: 200px;max-width: 100%;overflow: auto;}#sk-container-id-1 input.sk-toggleable__control:checked~label.sk-toggleable__label-arrow:before {content: \"▾\";}#sk-container-id-1 div.sk-estimator input.sk-toggleable__control:checked~label.sk-toggleable__label {background-color: #d4ebff;}#sk-container-id-1 div.sk-label input.sk-toggleable__control:checked~label.sk-toggleable__label {background-color: #d4ebff;}#sk-container-id-1 input.sk-hidden--visually {border: 0;clip: rect(1px 1px 1px 1px);clip: rect(1px, 1px, 1px, 1px);height: 1px;margin: -1px;overflow: hidden;padding: 0;position: absolute;width: 1px;}#sk-container-id-1 div.sk-estimator {font-family: monospace;background-color: #f0f8ff;border: 1px dotted black;border-radius: 0.25em;box-sizing: border-box;margin-bottom: 0.5em;}#sk-container-id-1 div.sk-estimator:hover {background-color: #d4ebff;}#sk-container-id-1 div.sk-parallel-item::after {content: \"\";width: 100%;border-bottom: 1px solid gray;flex-grow: 1;}#sk-container-id-1 div.sk-label:hover label.sk-toggleable__label {background-color: #d4ebff;}#sk-container-id-1 div.sk-serial::before {content: \"\";position: absolute;border-left: 1px solid gray;box-sizing: border-box;top: 0;bottom: 0;left: 50%;z-index: 0;}#sk-container-id-1 div.sk-serial {display: flex;flex-direction: column;align-items: center;background-color: white;padding-right: 0.2em;padding-left: 0.2em;position: relative;}#sk-container-id-1 div.sk-item {position: relative;z-index: 1;}#sk-container-id-1 div.sk-parallel {display: flex;align-items: stretch;justify-content: center;background-color: white;position: relative;}#sk-container-id-1 div.sk-item::before, #sk-container-id-1 div.sk-parallel-item::before {content: \"\";position: absolute;border-left: 1px solid gray;box-sizing: border-box;top: 0;bottom: 0;left: 50%;z-index: -1;}#sk-container-id-1 div.sk-parallel-item {display: flex;flex-direction: column;z-index: 1;position: relative;background-color: white;}#sk-container-id-1 div.sk-parallel-item:first-child::after {align-self: flex-end;width: 50%;}#sk-container-id-1 div.sk-parallel-item:last-child::after {align-self: flex-start;width: 50%;}#sk-container-id-1 div.sk-parallel-item:only-child::after {width: 0;}#sk-container-id-1 div.sk-dashed-wrapped {border: 1px dashed gray;margin: 0 0.4em 0.5em 0.4em;box-sizing: border-box;padding-bottom: 0.4em;background-color: white;}#sk-container-id-1 div.sk-label label {font-family: monospace;font-weight: bold;display: inline-block;line-height: 1.2em;}#sk-container-id-1 div.sk-label-container {text-align: center;}#sk-container-id-1 div.sk-container {/* jupyter's `normalize.less` sets `[hidden] { display: none; }` but bootstrap.min.css set `[hidden] { display: none !important; }` so we also need the `!important` here to be able to override the default hidden behavior on the sphinx rendered scikit-learn.org. See: https://github.com/scikit-learn/scikit-learn/issues/21755 */display: inline-block !important;position: relative;}#sk-container-id-1 div.sk-text-repr-fallback {display: none;}</style><div id=\"sk-container-id-1\" class=\"sk-top-container\"><div class=\"sk-text-repr-fallback\"><pre>LogisticRegression(random_state=15)</pre><b>In a Jupyter environment, please rerun this cell to show the HTML representation or trust the notebook. <br />On GitHub, the HTML representation is unable to render, please try loading this page with nbviewer.org.</b></div><div class=\"sk-container\" hidden><div class=\"sk-item\"><div class=\"sk-estimator sk-toggleable\"><input class=\"sk-toggleable__control sk-hidden--visually\" id=\"sk-estimator-id-1\" type=\"checkbox\" checked><label for=\"sk-estimator-id-1\" class=\"sk-toggleable__label sk-toggleable__label-arrow\">LogisticRegression</label><div class=\"sk-toggleable__content\"><pre>LogisticRegression(random_state=15)</pre></div></div></div></div></div>"
      ],
      "text/plain": [
       "LogisticRegression(random_state=15)"
      ]
     },
     "execution_count": 22,
     "metadata": {},
     "output_type": "execute_result"
    }
   ],
   "source": [
    "from sklearn.linear_model import LogisticRegression\n",
    "from sklearn.metrics import roc_auc_score, accuracy_score\n",
    "\n",
    "logreg = LogisticRegression(random_state=15)\n",
    "logreg.fit(X = X_train, y = y_train)"
   ]
  },
  {
   "cell_type": "code",
   "execution_count": 23,
   "metadata": {},
   "outputs": [
    {
     "data": {
      "text/plain": [
       "0.5203619909502263"
      ]
     },
     "execution_count": 23,
     "metadata": {},
     "output_type": "execute_result"
    }
   ],
   "source": [
    "accuracy_score(y_test, logreg.predict(X_test))"
   ]
  },
  {
   "cell_type": "code",
   "execution_count": 24,
   "metadata": {},
   "outputs": [
    {
     "data": {
      "text/plain": [
       "0.6402524732609894"
      ]
     },
     "execution_count": 24,
     "metadata": {},
     "output_type": "execute_result"
    }
   ],
   "source": [
    "roc_auc_score(y_test, logreg.predict_proba(X_test), multi_class='ovo')"
   ]
  }
 ],
 "metadata": {
  "kernelspec": {
   "display_name": "Python 3",
   "language": "python",
   "name": "python3"
  },
  "language_info": {
   "codemirror_mode": {
    "name": "ipython",
    "version": 3
   },
   "file_extension": ".py",
   "mimetype": "text/x-python",
   "name": "python",
   "nbconvert_exporter": "python",
   "pygments_lexer": "ipython3",
   "version": "3.8.5"
  },
  "orig_nbformat": 4
 },
 "nbformat": 4,
 "nbformat_minor": 2
}
