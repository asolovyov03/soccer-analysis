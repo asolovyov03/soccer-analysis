{
 "cells": [
  {
   "cell_type": "code",
   "execution_count": 117,
   "id": "405799b6",
   "metadata": {},
   "outputs": [],
   "source": [
    "import requests\n",
    "from bs4 import BeautifulSoup \n",
    "import pandas as pd\n",
    "from fake_headers import Headers\n",
    "import re"
   ]
  },
  {
   "cell_type": "code",
   "execution_count": 118,
   "id": "1a8e07b8",
   "metadata": {},
   "outputs": [],
   "source": [
    "def get_soup(url):\n",
    "     '''\n",
    "        Функция передает html-код\n",
    "\n",
    "        Args:\n",
    "            headers: генерация случайных браузеров для подключения\n",
    "        Returns:\n",
    "            soup: cоздается объект BeautifulSoup, HTML-данные передаются конструктору\n",
    "            Fals: ошибка, в случае если ответ не 200\n",
    "    '''\n",
    "    try:\n",
    "        headers = Headers(headers = True).generate()\n",
    "        response = requests.get(url, headers = headers)\n",
    "        response.raise_for_status() \n",
    "        soup = BeautifulSoup(response.text, 'html.parser')\n",
    "        return soup\n",
    "    except requests.RequestException:\n",
    "        return False"
   ]
  },
  {
   "cell_type": "code",
   "execution_count": 119,
   "id": "de7b36f8",
   "metadata": {},
   "outputs": [],
   "source": [
    "def write_down(weather):\n",
    "    '''\n",
    "        Функция добавляет в tsv файл собранные данные\n",
    "        Если файла не существует, создается новый\n",
    "\n",
    "        Args:\n",
    "            weather.tsv: имя tsv файла, в который требуется добавить данные\n",
    "            weather: данные, которые запишутся в файл\n",
    "    '''\n",
    "    df = pd.DataFrame(weather)\n",
    "    df.to_csv('weather.tsv', sep='\\t', index=False)\n",
    "    print(df)"
   ]
  },
  {
   "cell_type": "code",
   "execution_count": 120,
   "id": "ea497e33",
   "metadata": {},
   "outputs": [],
   "source": [
    "def parse():\n",
    "    '''\n",
    "    Собираем данные с помощью парсинга. \n",
    "\n",
    "    Args:\n",
    "        cities: список, который содержит все коды для ссылок на страницы городов\n",
    "        data: собирается словарь с данными о матчах\n",
    "        all_data: возвращает список из команды, игрока, его поизиции и роста\n",
    "'''\n",
    "    all_data=[]\n",
    "    cities = ['bournemouth','leeds','newcastle-upon-tyne','leicester','brighton',\n",
    "          'southampton','wolverhampton','bradford','nottingham','watford',\n",
    "         'burnley', 'norwich','liverpool', 'manchester', 'london', 'birmingham']\n",
    "    for c in range(len(cities)):\n",
    "        url = f'https://pogoda.365c.ru/united-kingdom/{cities[c]}/po_mesyacam'\n",
    "        soup = get_soup(url)\n",
    "        city = soup.find(class_='active')\n",
    "        month = soup.find_all(class_='d-name')\n",
    "        month = month[1:]\n",
    "        temp_day = soup.find_all(class_='d-temp')\n",
    "        rain = soup.find_all(class_='d-temp2')\n",
    "        for i in range(len(month)):\n",
    "            data = {'Город': city.text, 'Месяц': i+1, 'Название месяца': month[i].text, \n",
    "                    'Дневная температура' : temp_day[i].text, 'Дождь': rain[i].text[0],\n",
    "                    'Осадки': rain[i].text.split(' ')[-1]}\n",
    "            all_data.append(data)\n",
    "    return all_data"
   ]
  },
  {
   "cell_type": "code",
   "execution_count": 121,
   "id": "fa3220dc",
   "metadata": {},
   "outputs": [
    {
     "name": "stdout",
     "output_type": "stream",
     "text": [
      "         Город  Месяц Название месяца Дневная температура Дождь    Осадки\n",
      "0      Борнмут      1          Январь               +10°C     7  (89.5мм)\n",
      "1      Борнмут      2         Февраль             +10.8°C     6  (65.4мм)\n",
      "2      Борнмут      3            Март             +11.5°C     3  (33.0мм)\n",
      "3      Борнмут      4          Апрель               +13°C     5  (50.8мм)\n",
      "4      Борнмут      5             Май             +15.5°C     6  (48.5мм)\n",
      "..         ...    ...             ...                 ...   ...       ...\n",
      "187  Бирмингем      8          Август             +19.5°C     5  (82.0мм)\n",
      "188  Бирмингем      9        Сентябрь             +20.8°C     3  (49.2мм)\n",
      "189  Бирмингем     10         Октябрь             +15.2°C     6  (58.6мм)\n",
      "190  Бирмингем     11          Ноябрь             +10.2°C     2  (45.9мм)\n",
      "191  Бирмингем     12         Декабрь                +8°C     3  (66.2мм)\n",
      "\n",
      "[192 rows x 6 columns]\n"
     ]
    }
   ],
   "source": [
    "if __name__ == '__main__':\n",
    "    weather = parse()\n",
    "    write_down(weather)\n",
    "   \n",
    "    "
   ]
  },
  {
   "cell_type": "code",
   "execution_count": null,
   "id": "59f32d17",
   "metadata": {},
   "outputs": [],
   "source": []
  }
 ],
 "metadata": {
  "kernelspec": {
   "display_name": "Python 3 (ipykernel)",
   "language": "python",
   "name": "python3"
  },
  "language_info": {
   "codemirror_mode": {
    "name": "ipython",
    "version": 3
   },
   "file_extension": ".py",
   "mimetype": "text/x-python",
   "name": "python",
   "nbconvert_exporter": "python",
   "pygments_lexer": "ipython3",
   "version": "3.11.3"
  }
 },
 "nbformat": 4,
 "nbformat_minor": 5
}
