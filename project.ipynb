{
 "cells": [
  {
   "attachments": {},
   "cell_type": "markdown",
   "metadata": {},
   "source": [
    "# Анализ результативности футбольных команд\n",
    "\n",
    "Команда «Е.Д.А.»\n",
    " - Максимов Дмитрий Николаевич\n",
    " - Никитина Елизавета Андреевна\n",
    " - Соловьев Алексаднр Сергеевич "
   ]
  },
  {
   "attachments": {},
   "cell_type": "markdown",
   "metadata": {},
   "source": [
    "## Шаг 1. Тема и общее описание проекта"
   ]
  },
  {
   "attachments": {},
   "cell_type": "markdown",
   "metadata": {},
   "source": [
    "В футболе существует огромное количество статистики по итогам матчей — количество пасов/навесов, xG (Expected Goals), доля ударов в створ и многое другое. Наша команда заинтересовалась, можно ли по этой статистике оценивать результативность футбольной команды и, соответственно, пытаться предсказывать исход матчей.\n",
    "\n",
    "Для этого мы решили взглянуть на последние несколько сезонов Английской Премьер лиги и поставили задачу предугадать чемпиона текущего сезона. В качестве основного источника данных мы взяли сайт https://fbref.com/en/, так как он предоставляет большое количество статистики"
   ]
  },
  {
   "attachments": {},
   "cell_type": "markdown",
   "metadata": {},
   "source": [
    "## Шаг 2. Сбор данных"
   ]
  },
  {
   "attachments": {},
   "cell_type": "markdown",
   "metadata": {},
   "source": [
    "### Как мы собирали данные?\n",
    "Fbref имеет некоторые ограничения для сбора данных — слишком частые запросы (больше 20 в минуту) блокируются, поэтому в одной из версий парсера мы решили расставить паузы так, чтобы не нарушать это требование со стороны fbref. В итоге необходимые данные мы скачали за примерно 1.5 часа. \n",
    "Код парсера можно посмотреть [здесь](https://github.com/asolovyov03/soccer-analysis/blob/main/scripts/parse.py)\n",
    "\n",
    "Итоговые данные мы сохранили в файл [match_stats.json](https://github.com/asolovyov03/soccer-analysis/blob/main/match_stats.json)\n",
    "\n",
    "### Какие данные мы собрали?\n",
    "Мы решили взять статистику всех матчей АПЛ с сезона 2018-2019 по текущий (последний матч на момент парсинга прошёл 8 мая)\n",
    "Для домашней и гостевой команды мы собрали следующие признаки:\n",
    "- **team**: название команды\n",
    "- **score**: количество голов, которая команда забила по итогам матча\n",
    "- **xG**: показатель Expected Goals (расчитана аналитической компанией Opta)\n",
    "- **possession**: доля владения мячом\n",
    "- **passing_accuracy**: точность пасов (доля успешных пасов)\n",
    "- **shots_on_target**: доля ударов в створ\n",
    "- **yellow_cards_count**: количество желтых карточек\n",
    "- **red_cards_count**: количество красных карточек\n",
    "- **fouls**: количество совершенных фолов\n",
    "- **corners**: количество угловых\n",
    "- **crosses**: количество навесов\n",
    "- **touches**: количество касаний мяча\n",
    "- **tackles**: количество перехватов\n",
    "- **interceptions**: количество отборов мяча\n",
    "- **aerials_won**: количество выигрышей мяча в воздухе\n",
    "- **clearances**: количество выбитых мячей\n",
    "- **offsides**: количетсво попаданий в оффсайд\n",
    "- **goal_kicks**: количество ударов от ворот\n",
    "- **throw_ins**: количество вбросов в игру\n",
    "- **long_balls**: количество дальних передач\n",
    "- **match_date**: дата матча\n",
    "- **match_week**: номер недели чемпионата"
   ]
  },
  {
   "attachments": {},
   "cell_type": "markdown",
   "metadata": {},
   "source": [
    "## Шаг 3. Предварительная обработка"
   ]
  },
  {
   "cell_type": "code",
   "execution_count": null,
   "metadata": {},
   "outputs": [],
   "source": []
  },
  {
   "attachments": {},
   "cell_type": "markdown",
   "metadata": {},
   "source": [
    "## Шаг 4. Визуализация"
   ]
  },
  {
   "cell_type": "code",
   "execution_count": null,
   "metadata": {},
   "outputs": [],
   "source": []
  },
  {
   "attachments": {},
   "cell_type": "markdown",
   "metadata": {},
   "source": [
    "## Шаг 5. Создание новых признаков"
   ]
  },
  {
   "cell_type": "code",
   "execution_count": null,
   "metadata": {},
   "outputs": [],
   "source": []
  },
  {
   "attachments": {},
   "cell_type": "markdown",
   "metadata": {},
   "source": [
    "## Шаг 6. Гипотезы"
   ]
  },
  {
   "cell_type": "code",
   "execution_count": null,
   "metadata": {},
   "outputs": [],
   "source": []
  },
  {
   "attachments": {},
   "cell_type": "markdown",
   "metadata": {},
   "source": [
    "## Шаг 7. Машинное обучение"
   ]
  },
  {
   "cell_type": "code",
   "execution_count": null,
   "metadata": {},
   "outputs": [],
   "source": []
  }
 ],
 "metadata": {
  "language_info": {
   "name": "python"
  },
  "orig_nbformat": 4
 },
 "nbformat": 4,
 "nbformat_minor": 2
}
