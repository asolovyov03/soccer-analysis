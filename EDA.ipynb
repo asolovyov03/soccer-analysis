{
 "cells": [
  {
   "cell_type": "code",
   "execution_count": 2,
   "metadata": {},
   "outputs": [],
   "source": [
    "import pandas as pd\n",
    "import numpy as np\n",
    "import seaborn as sns\n",
    "import matplotlib.pyplot as plt\n",
    "import json"
   ]
  },
  {
   "cell_type": "code",
   "execution_count": 3,
   "metadata": {},
   "outputs": [],
   "source": [
    "with open(\"match_stats.json\") as file:\n",
    "    matches = json.loads(file.read())\n",
    "stat_keys = matches[0]['home'].keys()\n",
    "data = {}\n",
    "data.update({'home_' + k: [] for k in stat_keys})\n",
    "data.update({'guest_' + k: [] for k in stat_keys})\n",
    "\n",
    "for match in matches:\n",
    "    for key in match['home'].keys():\n",
    "        data['home_' + key].append(match['home'][key])\n",
    "    for key in match['guest'].keys():\n",
    "        data['guest_' + key].append(match['guest'][key])\n",
    "\n",
    "df = pd.DataFrame(data)"
   ]
  },
  {
   "attachments": {},
   "cell_type": "markdown",
   "metadata": {},
   "source": [
    "Взгляним на то, что из себя представляет полученный df"
   ]
  },
  {
   "cell_type": "code",
   "execution_count": 4,
   "metadata": {},
   "outputs": [
    {
     "data": {
      "text/html": [
       "<div>\n",
       "<style scoped>\n",
       "    .dataframe tbody tr th:only-of-type {\n",
       "        vertical-align: middle;\n",
       "    }\n",
       "\n",
       "    .dataframe tbody tr th {\n",
       "        vertical-align: top;\n",
       "    }\n",
       "\n",
       "    .dataframe thead th {\n",
       "        text-align: right;\n",
       "    }\n",
       "</style>\n",
       "<table border=\"1\" class=\"dataframe\">\n",
       "  <thead>\n",
       "    <tr style=\"text-align: right;\">\n",
       "      <th></th>\n",
       "      <th>home_team</th>\n",
       "      <th>home_score</th>\n",
       "      <th>home_xG</th>\n",
       "      <th>home_possession</th>\n",
       "      <th>home_passing_accuracy</th>\n",
       "      <th>home_shots_on_target</th>\n",
       "      <th>home_yellow_cards_count</th>\n",
       "      <th>home_red_cards_count</th>\n",
       "      <th>home_fouls</th>\n",
       "      <th>home_corners</th>\n",
       "      <th>...</th>\n",
       "      <th>guest_crosses</th>\n",
       "      <th>guest_touches</th>\n",
       "      <th>guest_tackles</th>\n",
       "      <th>guest_interceptions</th>\n",
       "      <th>guest_aerials_won</th>\n",
       "      <th>guest_clearances</th>\n",
       "      <th>guest_offsides</th>\n",
       "      <th>guest_goal_kicks</th>\n",
       "      <th>guest_throw_ins</th>\n",
       "      <th>guest_long_balls</th>\n",
       "    </tr>\n",
       "  </thead>\n",
       "  <tbody>\n",
       "    <tr>\n",
       "      <th>0</th>\n",
       "      <td>Crystal Palace</td>\n",
       "      <td>0</td>\n",
       "      <td>1.2</td>\n",
       "      <td>0.56</td>\n",
       "      <td>0.84</td>\n",
       "      <td>0.20</td>\n",
       "      <td>1</td>\n",
       "      <td>0</td>\n",
       "      <td>16</td>\n",
       "      <td>3</td>\n",
       "      <td>...</td>\n",
       "      <td>11</td>\n",
       "      <td>599</td>\n",
       "      <td>29</td>\n",
       "      <td>9</td>\n",
       "      <td>14</td>\n",
       "      <td>24</td>\n",
       "      <td>2</td>\n",
       "      <td>2</td>\n",
       "      <td>14</td>\n",
       "      <td>59</td>\n",
       "    </tr>\n",
       "    <tr>\n",
       "      <th>1</th>\n",
       "      <td>Fulham</td>\n",
       "      <td>2</td>\n",
       "      <td>1.2</td>\n",
       "      <td>0.33</td>\n",
       "      <td>0.60</td>\n",
       "      <td>0.25</td>\n",
       "      <td>2</td>\n",
       "      <td>0</td>\n",
       "      <td>7</td>\n",
       "      <td>4</td>\n",
       "      <td>...</td>\n",
       "      <td>18</td>\n",
       "      <td>784</td>\n",
       "      <td>11</td>\n",
       "      <td>10</td>\n",
       "      <td>13</td>\n",
       "      <td>16</td>\n",
       "      <td>4</td>\n",
       "      <td>5</td>\n",
       "      <td>35</td>\n",
       "      <td>94</td>\n",
       "    </tr>\n",
       "    <tr>\n",
       "      <th>2</th>\n",
       "      <td>Tottenham Hotspur</td>\n",
       "      <td>4</td>\n",
       "      <td>1.5</td>\n",
       "      <td>0.58</td>\n",
       "      <td>0.83</td>\n",
       "      <td>0.44</td>\n",
       "      <td>3</td>\n",
       "      <td>0</td>\n",
       "      <td>11</td>\n",
       "      <td>10</td>\n",
       "      <td>...</td>\n",
       "      <td>18</td>\n",
       "      <td>554</td>\n",
       "      <td>14</td>\n",
       "      <td>13</td>\n",
       "      <td>11</td>\n",
       "      <td>21</td>\n",
       "      <td>0</td>\n",
       "      <td>4</td>\n",
       "      <td>14</td>\n",
       "      <td>61</td>\n",
       "    </tr>\n",
       "    <tr>\n",
       "      <th>3</th>\n",
       "      <td>Newcastle United</td>\n",
       "      <td>2</td>\n",
       "      <td>1.7</td>\n",
       "      <td>0.61</td>\n",
       "      <td>0.79</td>\n",
       "      <td>0.39</td>\n",
       "      <td>0</td>\n",
       "      <td>0</td>\n",
       "      <td>9</td>\n",
       "      <td>11</td>\n",
       "      <td>...</td>\n",
       "      <td>9</td>\n",
       "      <td>475</td>\n",
       "      <td>15</td>\n",
       "      <td>10</td>\n",
       "      <td>16</td>\n",
       "      <td>37</td>\n",
       "      <td>0</td>\n",
       "      <td>12</td>\n",
       "      <td>26</td>\n",
       "      <td>70</td>\n",
       "    </tr>\n",
       "    <tr>\n",
       "      <th>4</th>\n",
       "      <td>Leeds United</td>\n",
       "      <td>2</td>\n",
       "      <td>0.8</td>\n",
       "      <td>0.40</td>\n",
       "      <td>0.74</td>\n",
       "      <td>0.33</td>\n",
       "      <td>2</td>\n",
       "      <td>0</td>\n",
       "      <td>13</td>\n",
       "      <td>6</td>\n",
       "      <td>...</td>\n",
       "      <td>20</td>\n",
       "      <td>720</td>\n",
       "      <td>16</td>\n",
       "      <td>14</td>\n",
       "      <td>7</td>\n",
       "      <td>17</td>\n",
       "      <td>1</td>\n",
       "      <td>9</td>\n",
       "      <td>23</td>\n",
       "      <td>72</td>\n",
       "    </tr>\n",
       "  </tbody>\n",
       "</table>\n",
       "<p>5 rows × 40 columns</p>\n",
       "</div>"
      ],
      "text/plain": [
       "           home_team  home_score  home_xG  home_possession  \\\n",
       "0     Crystal Palace           0      1.2             0.56   \n",
       "1             Fulham           2      1.2             0.33   \n",
       "2  Tottenham Hotspur           4      1.5             0.58   \n",
       "3   Newcastle United           2      1.7             0.61   \n",
       "4       Leeds United           2      0.8             0.40   \n",
       "\n",
       "   home_passing_accuracy  home_shots_on_target  home_yellow_cards_count  \\\n",
       "0                   0.84                  0.20                        1   \n",
       "1                   0.60                  0.25                        2   \n",
       "2                   0.83                  0.44                        3   \n",
       "3                   0.79                  0.39                        0   \n",
       "4                   0.74                  0.33                        2   \n",
       "\n",
       "   home_red_cards_count  home_fouls  home_corners  ...  guest_crosses  \\\n",
       "0                     0          16             3  ...             11   \n",
       "1                     0           7             4  ...             18   \n",
       "2                     0          11            10  ...             18   \n",
       "3                     0           9            11  ...              9   \n",
       "4                     0          13             6  ...             20   \n",
       "\n",
       "   guest_touches  guest_tackles  guest_interceptions  guest_aerials_won  \\\n",
       "0            599             29                    9                 14   \n",
       "1            784             11                   10                 13   \n",
       "2            554             14                   13                 11   \n",
       "3            475             15                   10                 16   \n",
       "4            720             16                   14                  7   \n",
       "\n",
       "   guest_clearances  guest_offsides  guest_goal_kicks  guest_throw_ins  \\\n",
       "0                24               2                 2               14   \n",
       "1                16               4                 5               35   \n",
       "2                21               0                 4               14   \n",
       "3                37               0                12               26   \n",
       "4                17               1                 9               23   \n",
       "\n",
       "   guest_long_balls  \n",
       "0                59  \n",
       "1                94  \n",
       "2                61  \n",
       "3                70  \n",
       "4                72  \n",
       "\n",
       "[5 rows x 40 columns]"
      ]
     },
     "execution_count": 4,
     "metadata": {},
     "output_type": "execute_result"
    }
   ],
   "source": [
    "df.head()"
   ]
  },
  {
   "attachments": {},
   "cell_type": "markdown",
   "metadata": {},
   "source": [
    "Посчитаем основные статистики для наших признаков"
   ]
  },
  {
   "cell_type": "code",
   "execution_count": 10,
   "metadata": {},
   "outputs": [
    {
     "data": {
      "text/html": [
       "<div>\n",
       "<style scoped>\n",
       "    .dataframe tbody tr th:only-of-type {\n",
       "        vertical-align: middle;\n",
       "    }\n",
       "\n",
       "    .dataframe tbody tr th {\n",
       "        vertical-align: top;\n",
       "    }\n",
       "\n",
       "    .dataframe thead th {\n",
       "        text-align: right;\n",
       "    }\n",
       "</style>\n",
       "<table border=\"1\" class=\"dataframe\">\n",
       "  <thead>\n",
       "    <tr style=\"text-align: right;\">\n",
       "      <th></th>\n",
       "      <th>home_score</th>\n",
       "      <th>home_xG</th>\n",
       "      <th>home_possession</th>\n",
       "      <th>home_passing_accuracy</th>\n",
       "      <th>home_shots_on_target</th>\n",
       "      <th>home_yellow_cards_count</th>\n",
       "      <th>home_red_cards_count</th>\n",
       "      <th>home_fouls</th>\n",
       "      <th>home_corners</th>\n",
       "      <th>home_crosses</th>\n",
       "      <th>...</th>\n",
       "      <th>guest_crosses</th>\n",
       "      <th>guest_touches</th>\n",
       "      <th>guest_tackles</th>\n",
       "      <th>guest_interceptions</th>\n",
       "      <th>guest_aerials_won</th>\n",
       "      <th>guest_clearances</th>\n",
       "      <th>guest_offsides</th>\n",
       "      <th>guest_goal_kicks</th>\n",
       "      <th>guest_throw_ins</th>\n",
       "      <th>guest_long_balls</th>\n",
       "    </tr>\n",
       "  </thead>\n",
       "  <tbody>\n",
       "    <tr>\n",
       "      <th>count</th>\n",
       "      <td>1834.000000</td>\n",
       "      <td>1834.000000</td>\n",
       "      <td>1834.000000</td>\n",
       "      <td>1834.000000</td>\n",
       "      <td>1834.000000</td>\n",
       "      <td>1834.000000</td>\n",
       "      <td>1834.000000</td>\n",
       "      <td>1834.000000</td>\n",
       "      <td>1834.000000</td>\n",
       "      <td>1834.000000</td>\n",
       "      <td>...</td>\n",
       "      <td>1834.00000</td>\n",
       "      <td>1834.000000</td>\n",
       "      <td>1834.000000</td>\n",
       "      <td>1834.000000</td>\n",
       "      <td>1834.000000</td>\n",
       "      <td>1834.000000</td>\n",
       "      <td>1834.00000</td>\n",
       "      <td>1834.000000</td>\n",
       "      <td>1834.000000</td>\n",
       "      <td>1834.000000</td>\n",
       "    </tr>\n",
       "    <tr>\n",
       "      <th>mean</th>\n",
       "      <td>1.504907</td>\n",
       "      <td>1.459597</td>\n",
       "      <td>0.509553</td>\n",
       "      <td>0.770365</td>\n",
       "      <td>0.332770</td>\n",
       "      <td>1.607961</td>\n",
       "      <td>0.034351</td>\n",
       "      <td>10.491821</td>\n",
       "      <td>5.648310</td>\n",
       "      <td>19.647764</td>\n",
       "      <td>...</td>\n",
       "      <td>16.40458</td>\n",
       "      <td>606.242094</td>\n",
       "      <td>16.541439</td>\n",
       "      <td>10.338059</td>\n",
       "      <td>16.693566</td>\n",
       "      <td>22.523991</td>\n",
       "      <td>1.71265</td>\n",
       "      <td>7.833697</td>\n",
       "      <td>20.131407</td>\n",
       "      <td>68.393130</td>\n",
       "    </tr>\n",
       "    <tr>\n",
       "      <th>std</th>\n",
       "      <td>1.324670</td>\n",
       "      <td>0.822911</td>\n",
       "      <td>0.126357</td>\n",
       "      <td>0.074203</td>\n",
       "      <td>0.154987</td>\n",
       "      <td>1.244984</td>\n",
       "      <td>0.190952</td>\n",
       "      <td>3.407925</td>\n",
       "      <td>3.062734</td>\n",
       "      <td>8.356045</td>\n",
       "      <td>...</td>\n",
       "      <td>7.49540</td>\n",
       "      <td>133.001931</td>\n",
       "      <td>5.227156</td>\n",
       "      <td>4.130337</td>\n",
       "      <td>6.994573</td>\n",
       "      <td>10.120319</td>\n",
       "      <td>1.48929</td>\n",
       "      <td>3.465855</td>\n",
       "      <td>6.070747</td>\n",
       "      <td>13.462878</td>\n",
       "    </tr>\n",
       "    <tr>\n",
       "      <th>min</th>\n",
       "      <td>0.000000</td>\n",
       "      <td>0.000000</td>\n",
       "      <td>0.180000</td>\n",
       "      <td>0.490000</td>\n",
       "      <td>0.000000</td>\n",
       "      <td>0.000000</td>\n",
       "      <td>0.000000</td>\n",
       "      <td>0.000000</td>\n",
       "      <td>0.000000</td>\n",
       "      <td>2.000000</td>\n",
       "      <td>...</td>\n",
       "      <td>0.00000</td>\n",
       "      <td>299.000000</td>\n",
       "      <td>3.000000</td>\n",
       "      <td>0.000000</td>\n",
       "      <td>1.000000</td>\n",
       "      <td>1.000000</td>\n",
       "      <td>0.00000</td>\n",
       "      <td>0.000000</td>\n",
       "      <td>3.000000</td>\n",
       "      <td>30.000000</td>\n",
       "    </tr>\n",
       "    <tr>\n",
       "      <th>25%</th>\n",
       "      <td>1.000000</td>\n",
       "      <td>0.800000</td>\n",
       "      <td>0.420000</td>\n",
       "      <td>0.720000</td>\n",
       "      <td>0.230000</td>\n",
       "      <td>1.000000</td>\n",
       "      <td>0.000000</td>\n",
       "      <td>8.000000</td>\n",
       "      <td>3.000000</td>\n",
       "      <td>13.000000</td>\n",
       "      <td>...</td>\n",
       "      <td>11.00000</td>\n",
       "      <td>502.000000</td>\n",
       "      <td>13.000000</td>\n",
       "      <td>7.000000</td>\n",
       "      <td>12.000000</td>\n",
       "      <td>15.000000</td>\n",
       "      <td>1.00000</td>\n",
       "      <td>5.000000</td>\n",
       "      <td>16.000000</td>\n",
       "      <td>59.000000</td>\n",
       "    </tr>\n",
       "    <tr>\n",
       "      <th>50%</th>\n",
       "      <td>1.000000</td>\n",
       "      <td>1.400000</td>\n",
       "      <td>0.510000</td>\n",
       "      <td>0.780000</td>\n",
       "      <td>0.330000</td>\n",
       "      <td>1.000000</td>\n",
       "      <td>0.000000</td>\n",
       "      <td>10.000000</td>\n",
       "      <td>5.000000</td>\n",
       "      <td>19.000000</td>\n",
       "      <td>...</td>\n",
       "      <td>16.00000</td>\n",
       "      <td>596.000000</td>\n",
       "      <td>16.000000</td>\n",
       "      <td>10.000000</td>\n",
       "      <td>16.000000</td>\n",
       "      <td>21.000000</td>\n",
       "      <td>1.00000</td>\n",
       "      <td>8.000000</td>\n",
       "      <td>20.000000</td>\n",
       "      <td>67.000000</td>\n",
       "    </tr>\n",
       "    <tr>\n",
       "      <th>75%</th>\n",
       "      <td>2.000000</td>\n",
       "      <td>2.000000</td>\n",
       "      <td>0.610000</td>\n",
       "      <td>0.830000</td>\n",
       "      <td>0.430000</td>\n",
       "      <td>2.000000</td>\n",
       "      <td>0.000000</td>\n",
       "      <td>13.000000</td>\n",
       "      <td>8.000000</td>\n",
       "      <td>25.000000</td>\n",
       "      <td>...</td>\n",
       "      <td>21.00000</td>\n",
       "      <td>696.750000</td>\n",
       "      <td>20.000000</td>\n",
       "      <td>13.000000</td>\n",
       "      <td>21.000000</td>\n",
       "      <td>28.000000</td>\n",
       "      <td>3.00000</td>\n",
       "      <td>10.000000</td>\n",
       "      <td>24.000000</td>\n",
       "      <td>78.000000</td>\n",
       "    </tr>\n",
       "    <tr>\n",
       "      <th>max</th>\n",
       "      <td>9.000000</td>\n",
       "      <td>5.900000</td>\n",
       "      <td>0.820000</td>\n",
       "      <td>0.920000</td>\n",
       "      <td>1.000000</td>\n",
       "      <td>7.000000</td>\n",
       "      <td>2.000000</td>\n",
       "      <td>23.000000</td>\n",
       "      <td>17.000000</td>\n",
       "      <td>62.000000</td>\n",
       "      <td>...</td>\n",
       "      <td>53.00000</td>\n",
       "      <td>1063.000000</td>\n",
       "      <td>46.000000</td>\n",
       "      <td>29.000000</td>\n",
       "      <td>52.000000</td>\n",
       "      <td>80.000000</td>\n",
       "      <td>10.00000</td>\n",
       "      <td>23.000000</td>\n",
       "      <td>44.000000</td>\n",
       "      <td>127.000000</td>\n",
       "    </tr>\n",
       "  </tbody>\n",
       "</table>\n",
       "<p>8 rows × 38 columns</p>\n",
       "</div>"
      ],
      "text/plain": [
       "        home_score      home_xG  home_possession  home_passing_accuracy  \\\n",
       "count  1834.000000  1834.000000      1834.000000            1834.000000   \n",
       "mean      1.504907     1.459597         0.509553               0.770365   \n",
       "std       1.324670     0.822911         0.126357               0.074203   \n",
       "min       0.000000     0.000000         0.180000               0.490000   \n",
       "25%       1.000000     0.800000         0.420000               0.720000   \n",
       "50%       1.000000     1.400000         0.510000               0.780000   \n",
       "75%       2.000000     2.000000         0.610000               0.830000   \n",
       "max       9.000000     5.900000         0.820000               0.920000   \n",
       "\n",
       "       home_shots_on_target  home_yellow_cards_count  home_red_cards_count  \\\n",
       "count           1834.000000              1834.000000           1834.000000   \n",
       "mean               0.332770                 1.607961              0.034351   \n",
       "std                0.154987                 1.244984              0.190952   \n",
       "min                0.000000                 0.000000              0.000000   \n",
       "25%                0.230000                 1.000000              0.000000   \n",
       "50%                0.330000                 1.000000              0.000000   \n",
       "75%                0.430000                 2.000000              0.000000   \n",
       "max                1.000000                 7.000000              2.000000   \n",
       "\n",
       "        home_fouls  home_corners  home_crosses  ...  guest_crosses  \\\n",
       "count  1834.000000   1834.000000   1834.000000  ...     1834.00000   \n",
       "mean     10.491821      5.648310     19.647764  ...       16.40458   \n",
       "std       3.407925      3.062734      8.356045  ...        7.49540   \n",
       "min       0.000000      0.000000      2.000000  ...        0.00000   \n",
       "25%       8.000000      3.000000     13.000000  ...       11.00000   \n",
       "50%      10.000000      5.000000     19.000000  ...       16.00000   \n",
       "75%      13.000000      8.000000     25.000000  ...       21.00000   \n",
       "max      23.000000     17.000000     62.000000  ...       53.00000   \n",
       "\n",
       "       guest_touches  guest_tackles  guest_interceptions  guest_aerials_won  \\\n",
       "count    1834.000000    1834.000000          1834.000000        1834.000000   \n",
       "mean      606.242094      16.541439            10.338059          16.693566   \n",
       "std       133.001931       5.227156             4.130337           6.994573   \n",
       "min       299.000000       3.000000             0.000000           1.000000   \n",
       "25%       502.000000      13.000000             7.000000          12.000000   \n",
       "50%       596.000000      16.000000            10.000000          16.000000   \n",
       "75%       696.750000      20.000000            13.000000          21.000000   \n",
       "max      1063.000000      46.000000            29.000000          52.000000   \n",
       "\n",
       "       guest_clearances  guest_offsides  guest_goal_kicks  guest_throw_ins  \\\n",
       "count       1834.000000      1834.00000       1834.000000      1834.000000   \n",
       "mean          22.523991         1.71265          7.833697        20.131407   \n",
       "std           10.120319         1.48929          3.465855         6.070747   \n",
       "min            1.000000         0.00000          0.000000         3.000000   \n",
       "25%           15.000000         1.00000          5.000000        16.000000   \n",
       "50%           21.000000         1.00000          8.000000        20.000000   \n",
       "75%           28.000000         3.00000         10.000000        24.000000   \n",
       "max           80.000000        10.00000         23.000000        44.000000   \n",
       "\n",
       "       guest_long_balls  \n",
       "count       1834.000000  \n",
       "mean          68.393130  \n",
       "std           13.462878  \n",
       "min           30.000000  \n",
       "25%           59.000000  \n",
       "50%           67.000000  \n",
       "75%           78.000000  \n",
       "max          127.000000  \n",
       "\n",
       "[8 rows x 38 columns]"
      ]
     },
     "execution_count": 10,
     "metadata": {},
     "output_type": "execute_result"
    }
   ],
   "source": [
    "df.describe()"
   ]
  },
  {
   "attachments": {},
   "cell_type": "markdown",
   "metadata": {},
   "source": [
    "Проверим, есть ли пропуски в данных"
   ]
  },
  {
   "cell_type": "code",
   "execution_count": 6,
   "metadata": {},
   "outputs": [
    {
     "data": {
      "text/plain": [
       "False"
      ]
     },
     "execution_count": 6,
     "metadata": {},
     "output_type": "execute_result"
    }
   ],
   "source": [
    "df.isna().any().any()"
   ]
  },
  {
   "attachments": {},
   "cell_type": "markdown",
   "metadata": {},
   "source": [
    "Пропуски отсутствуют"
   ]
  },
  {
   "attachments": {},
   "cell_type": "markdown",
   "metadata": {},
   "source": [
    "Попробуем посмотреть, есть ли некоторые ожидаемые закономерности в наших данных, с помощью визуализации"
   ]
  },
  {
   "attachments": {},
   "cell_type": "markdown",
   "metadata": {},
   "source": [
    "Сравним количество забитых голов дома и в гостях (принято считать, что в гостях играть сложнее)"
   ]
  },
  {
   "cell_type": "code",
   "execution_count": 6,
   "metadata": {},
   "outputs": [
    {
     "data": {
      "image/png": "[encoded data removed]",
      "text/plain": [
       "<Figure size 864x576 with 1 Axes>"
      ]
     },
     "metadata": {
      "needs_background": "light"
     },
     "output_type": "display_data"
    }
   ],
   "source": [
    "plt.figure(figsize=(12,8))\n",
    "plt.hist([df['home_score'], df['guest_score']], label=['Home', 'Guest'])\n",
    "plt.title(\"Гистограмма количества забитых голов дома и в гостях\")\n",
    "plt.xlabel(\"Количество забитых голов\")\n",
    "plt.legend();"
   ]
  },
  {
   "attachments": {},
   "cell_type": "markdown",
   "metadata": {},
   "source": [
    "Заметно, что у распределения голов гостей более тяжелый левый хвост. Они чаще не забивают вовсе или ограничиваются одним голом, хозяева же чаще результативнее. Можно предположить, что это связано со тактикой команды — в гостях больше защищаемся и менее активно атакуем. Давайте попробуем это проверить"
   ]
  },
  {
   "cell_type": "code",
   "execution_count": 7,
   "metadata": {},
   "outputs": [
    {
     "data": {
      "image/png": "[encoded data removed]",
      "text/plain": [
       "<Figure size 864x576 with 1 Axes>"
      ]
     },
     "metadata": {
      "needs_background": "light"
     },
     "output_type": "display_data"
    }
   ],
   "source": [
    "plt.figure(figsize=(12,8))\n",
    "plt.hist([df['home_clearances'], df['guest_clearances']], label = ['Home', 'Guest'])\n",
    "plt.title(\"Гистограмма количества выбитых мячей дома и в гостях\")\n",
    "plt.xlabel(\"Количество выбитых мячей\")\n",
    "plt.legend();"
   ]
  },
  {
   "attachments": {},
   "cell_type": "markdown",
   "metadata": {},
   "source": [
    "Видно, что гости заметно чаще выбивают мяч, посмотрим другие показатели игры от защиты"
   ]
  },
  {
   "cell_type": "code",
   "execution_count": 8,
   "metadata": {},
   "outputs": [
    {
     "data": {
      "image/png": "[encoded data removed]",
      "text/plain": [
       "<Figure size 864x576 with 1 Axes>"
      ]
     },
     "metadata": {
      "needs_background": "light"
     },
     "output_type": "display_data"
    }
   ],
   "source": [
    "plt.figure(figsize=(12, 8))\n",
    "plt.hist([df['home_interceptions'], df['guest_interceptions']], label=['Home', 'Guest'])\n",
    "plt.title(\"Гистограмма количества перехватов дома и в гостях\")\n",
    "plt.xlabel(\"Количество перехватов\")\n",
    "plt.legend();"
   ]
  },
  {
   "attachments": {},
   "cell_type": "markdown",
   "metadata": {},
   "source": [
    "А в количестве отборов различий нет. Интересно! Давайте посмотрим на корреляцию между показателями, связанными с игрой в защите и возможно найдем что-то интересное"
   ]
  },
  {
   "cell_type": "code",
   "execution_count": 9,
   "metadata": {},
   "outputs": [
    {
     "data": {
      "image/png": "[encoded data removed]",
      "text/plain": [
       "<Figure size 720x576 with 2 Axes>"
      ]
     },
     "metadata": {
      "needs_background": "light"
     },
     "output_type": "display_data"
    }
   ],
   "source": [
    "defensive_parametrs = ['home_yellow_cards_count', 'home_red_cards_count', 'home_fouls', 'home_tackles', 'home_interceptions', 'home_clearances']\n",
    "plt.figure(figsize=(10, 8))\n",
    "plt.title(\"Таблица корреляции между разными признаками, связанными с игрой в защите\")\n",
    "sns.heatmap(data=df[defensive_parametrs].corr(), annot=True, cmap='Blues');"
   ]
  },
  {
   "attachments": {},
   "cell_type": "markdown",
   "metadata": {},
   "source": [
    "Как заметно, почти везде корреляция достаточно слабая (кроме желтых карточек и фолов, что довольно очевидно). Об отсутствии зависимости говорить рано (вполне возможно она нелинейная), но это точно вопрос для дальнейшего изучения"
   ]
  },
  {
   "attachments": {},
   "cell_type": "markdown",
   "metadata": {},
   "source": [
    "Возможно низкая корреляция связана с тем, что каждый из этих показателей по-разному говорят об эффективности игры в защите. Например, перехват мяча позволяет дальше развить атаку, а выбивание его скорее говорит о неэффективности команды. Давайте сравним несколько показателей с количеством пропущенных и забитых голов"
   ]
  },
  {
   "cell_type": "code",
   "execution_count": 10,
   "metadata": {},
   "outputs": [
    {
     "data": {
      "image/png": "[encoded data removed]",
      "text/plain": [
       "<Figure size 720x576 with 2 Axes>"
      ]
     },
     "metadata": {
      "needs_background": "light"
     },
     "output_type": "display_data"
    }
   ],
   "source": [
    "params = ['home_score', 'guest_score', 'home_tackles', 'home_interceptions', 'home_clearances']\n",
    "plt.figure(figsize=(10, 8))\n",
    "plt.title(\"Таблица корреляции количества забитых и пропущенных голов с показателями игры в защите\")\n",
    "sns.heatmap(data=df[params].corr(), annot=True, cmap='Blues');"
   ]
  },
  {
   "attachments": {},
   "cell_type": "markdown",
   "metadata": {},
   "source": [
    "Пока зависимостей в вопросах защиты особо не видно, оставим их поиск на более поздний этап"
   ]
  }
 ],
 "metadata": {
  "kernelspec": {
   "display_name": "Python 3",
   "language": "python",
   "name": "python3"
  },
  "language_info": {
   "codemirror_mode": {
    "name": "ipython",
    "version": 3
   },
   "file_extension": ".py",
   "mimetype": "text/x-python",
   "name": "python",
   "nbconvert_exporter": "python",
   "pygments_lexer": "ipython3",
   "version": "3.8.5"
  },
  "orig_nbformat": 4
 },
 "nbformat": 4,
 "nbformat_minor": 2
}
